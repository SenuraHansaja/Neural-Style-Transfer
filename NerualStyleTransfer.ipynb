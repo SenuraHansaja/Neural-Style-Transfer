{
 "cells": [
  {
   "cell_type": "markdown",
   "id": "6d3a5943",
   "metadata": {},
   "source": [
    "## Neural Style Transfer"
   ]
  },
  {
   "cell_type": "markdown",
   "id": "09eb868f",
   "metadata": {},
   "source": [
    "Neural style transfer takes two inputs: a content image (the image whose structure we want to preserve) and a style image (the image from which we extract artistic style). The output is a new image that blends the content of the first with the style of the second."
   ]
  },
  {
   "cell_type": "code",
   "execution_count": null,
   "id": "f50e4675",
   "metadata": {},
   "outputs": [],
   "source": []
  }
 ],
 "metadata": {
  "language_info": {
   "name": "python"
  }
 },
 "nbformat": 4,
 "nbformat_minor": 5
}
